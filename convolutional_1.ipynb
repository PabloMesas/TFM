{
  "nbformat": 4,
  "nbformat_minor": 2,
  "metadata": {
    "colab": {
      "name": "convolutional_1.ipynb",
      "provenance": [],
      "collapsed_sections": [],
      "mount_file_id": "17VBdqomreofRALqlfF0XsI5hEQfrX4-E",
      "authorship_tag": "ABX9TyOc/WPZz6spf7zFn0qp1JO2"
    },
    "kernelspec": {
      "name": "python3",
      "display_name": "Python 3.7.10 64-bit ('pruebas_env': conda)"
    },
    "language_info": {
      "name": "python",
      "version": "3.7.10",
      "mimetype": "text/x-python",
      "codemirror_mode": {
        "name": "ipython",
        "version": 3
      },
      "pygments_lexer": "ipython3",
      "nbconvert_exporter": "python",
      "file_extension": ".py"
    },
    "interpreter": {
      "hash": "2fb176d0394d4e3eb5a4919b2d839568523166680b760a18060413ce7022ce94"
    }
  },
  "cells": [
    {
      "cell_type": "markdown",
      "source": [
        "\n",
        "\n",
        "Install dependencies\n",
        "\n",
        "\n"
      ],
      "metadata": {
        "id": "RurXunB-6nMi"
      }
    },
    {
      "cell_type": "code",
      "execution_count": 1,
      "source": [
        "!pip install tensorflow-gpu==2.4 keras simpleitk"
      ],
      "outputs": [
        {
          "output_type": "stream",
          "name": "stdout",
          "text": [
            "Requirement already satisfied: tensorflow-gpu==2.4 in /home/pmeslaf/.conda/envs/pruebas_env/lib/python3.7/site-packages (2.4.0)\n",
            "Requirement already satisfied: keras in /home/pmeslaf/.conda/envs/pruebas_env/lib/python3.7/site-packages (2.4.3)\n",
            "Requirement already satisfied: simpleitk in /home/pmeslaf/.conda/envs/pruebas_env/lib/python3.7/site-packages (2.1.0)\n",
            "Requirement already satisfied: typing-extensions~=3.7.4 in /home/pmeslaf/.conda/envs/pruebas_env/lib/python3.7/site-packages (from tensorflow-gpu==2.4) (3.7.4.3)\n",
            "Requirement already satisfied: numpy~=1.19.2 in /home/pmeslaf/.conda/envs/pruebas_env/lib/python3.7/site-packages (from tensorflow-gpu==2.4) (1.19.5)\n",
            "Requirement already satisfied: tensorflow-estimator<2.5.0,>=2.4.0rc0 in /home/pmeslaf/.conda/envs/pruebas_env/lib/python3.7/site-packages (from tensorflow-gpu==2.4) (2.4.0)\n",
            "Requirement already satisfied: grpcio~=1.32.0 in /home/pmeslaf/.conda/envs/pruebas_env/lib/python3.7/site-packages (from tensorflow-gpu==2.4) (1.32.0)\n",
            "Requirement already satisfied: opt-einsum~=3.3.0 in /home/pmeslaf/.conda/envs/pruebas_env/lib/python3.7/site-packages (from tensorflow-gpu==2.4) (3.3.0)\n",
            "Requirement already satisfied: keras-preprocessing~=1.1.2 in /home/pmeslaf/.conda/envs/pruebas_env/lib/python3.7/site-packages (from tensorflow-gpu==2.4) (1.1.2)\n",
            "Requirement already satisfied: absl-py~=0.10 in /home/pmeslaf/.conda/envs/pruebas_env/lib/python3.7/site-packages (from tensorflow-gpu==2.4) (0.13.0)\n",
            "Requirement already satisfied: protobuf>=3.9.2 in /home/pmeslaf/.conda/envs/pruebas_env/lib/python3.7/site-packages (from tensorflow-gpu==2.4) (3.17.3)\n",
            "Requirement already satisfied: wheel~=0.35 in /home/pmeslaf/.conda/envs/pruebas_env/lib/python3.7/site-packages (from tensorflow-gpu==2.4) (0.36.2)\n",
            "Requirement already satisfied: gast==0.3.3 in /home/pmeslaf/.conda/envs/pruebas_env/lib/python3.7/site-packages (from tensorflow-gpu==2.4) (0.3.3)\n",
            "Requirement already satisfied: wrapt~=1.12.1 in /home/pmeslaf/.conda/envs/pruebas_env/lib/python3.7/site-packages (from tensorflow-gpu==2.4) (1.12.1)\n",
            "Requirement already satisfied: flatbuffers~=1.12.0 in /home/pmeslaf/.conda/envs/pruebas_env/lib/python3.7/site-packages (from tensorflow-gpu==2.4) (1.12)\n",
            "Requirement already satisfied: h5py~=2.10.0 in /home/pmeslaf/.conda/envs/pruebas_env/lib/python3.7/site-packages (from tensorflow-gpu==2.4) (2.10.0)\n",
            "Requirement already satisfied: termcolor~=1.1.0 in /home/pmeslaf/.conda/envs/pruebas_env/lib/python3.7/site-packages (from tensorflow-gpu==2.4) (1.1.0)\n",
            "Requirement already satisfied: tensorboard~=2.4 in /home/pmeslaf/.conda/envs/pruebas_env/lib/python3.7/site-packages (from tensorflow-gpu==2.4) (2.6.0)\n",
            "Requirement already satisfied: astunparse~=1.6.3 in /home/pmeslaf/.conda/envs/pruebas_env/lib/python3.7/site-packages (from tensorflow-gpu==2.4) (1.6.3)\n",
            "Requirement already satisfied: google-pasta~=0.2 in /home/pmeslaf/.conda/envs/pruebas_env/lib/python3.7/site-packages (from tensorflow-gpu==2.4) (0.2.0)\n",
            "Requirement already satisfied: six~=1.15.0 in /home/pmeslaf/.conda/envs/pruebas_env/lib/python3.7/site-packages (from tensorflow-gpu==2.4) (1.15.0)\n",
            "Requirement already satisfied: google-auth-oauthlib<0.5,>=0.4.1 in /home/pmeslaf/.conda/envs/pruebas_env/lib/python3.7/site-packages (from tensorboard~=2.4->tensorflow-gpu==2.4) (0.4.4)\n",
            "Requirement already satisfied: google-auth<2,>=1.6.3 in /home/pmeslaf/.conda/envs/pruebas_env/lib/python3.7/site-packages (from tensorboard~=2.4->tensorflow-gpu==2.4) (1.31.0)\n",
            "Requirement already satisfied: tensorboard-data-server<0.7.0,>=0.6.0 in /home/pmeslaf/.conda/envs/pruebas_env/lib/python3.7/site-packages (from tensorboard~=2.4->tensorflow-gpu==2.4) (0.6.1)\n",
            "Requirement already satisfied: werkzeug>=0.11.15 in /home/pmeslaf/.conda/envs/pruebas_env/lib/python3.7/site-packages (from tensorboard~=2.4->tensorflow-gpu==2.4) (2.0.1)\n",
            "Requirement already satisfied: markdown>=2.6.8 in /home/pmeslaf/.conda/envs/pruebas_env/lib/python3.7/site-packages (from tensorboard~=2.4->tensorflow-gpu==2.4) (3.3.4)\n",
            "Requirement already satisfied: tensorboard-plugin-wit>=1.6.0 in /home/pmeslaf/.conda/envs/pruebas_env/lib/python3.7/site-packages (from tensorboard~=2.4->tensorflow-gpu==2.4) (1.8.0)\n",
            "Requirement already satisfied: requests<3,>=2.21.0 in /home/pmeslaf/.conda/envs/pruebas_env/lib/python3.7/site-packages (from tensorboard~=2.4->tensorflow-gpu==2.4) (2.25.1)\n",
            "Requirement already satisfied: setuptools>=41.0.0 in /home/pmeslaf/.conda/envs/pruebas_env/lib/python3.7/site-packages (from tensorboard~=2.4->tensorflow-gpu==2.4) (52.0.0.post20210125)\n",
            "Requirement already satisfied: pyasn1-modules>=0.2.1 in /home/pmeslaf/.conda/envs/pruebas_env/lib/python3.7/site-packages (from google-auth<2,>=1.6.3->tensorboard~=2.4->tensorflow-gpu==2.4) (0.2.8)\n",
            "Requirement already satisfied: cachetools<5.0,>=2.0.0 in /home/pmeslaf/.conda/envs/pruebas_env/lib/python3.7/site-packages (from google-auth<2,>=1.6.3->tensorboard~=2.4->tensorflow-gpu==2.4) (4.2.2)\n",
            "Requirement already satisfied: rsa<5,>=3.1.4 in /home/pmeslaf/.conda/envs/pruebas_env/lib/python3.7/site-packages (from google-auth<2,>=1.6.3->tensorboard~=2.4->tensorflow-gpu==2.4) (4.7.2)\n",
            "Requirement already satisfied: requests-oauthlib>=0.7.0 in /home/pmeslaf/.conda/envs/pruebas_env/lib/python3.7/site-packages (from google-auth-oauthlib<0.5,>=0.4.1->tensorboard~=2.4->tensorflow-gpu==2.4) (1.3.0)\n",
            "Requirement already satisfied: importlib-metadata in /home/pmeslaf/.conda/envs/pruebas_env/lib/python3.7/site-packages (from markdown>=2.6.8->tensorboard~=2.4->tensorflow-gpu==2.4) (4.5.0)\n",
            "Requirement already satisfied: pyasn1<0.5.0,>=0.4.6 in /home/pmeslaf/.conda/envs/pruebas_env/lib/python3.7/site-packages (from pyasn1-modules>=0.2.1->google-auth<2,>=1.6.3->tensorboard~=2.4->tensorflow-gpu==2.4) (0.4.8)\n",
            "Requirement already satisfied: chardet<5,>=3.0.2 in /home/pmeslaf/.conda/envs/pruebas_env/lib/python3.7/site-packages (from requests<3,>=2.21.0->tensorboard~=2.4->tensorflow-gpu==2.4) (4.0.0)\n",
            "Requirement already satisfied: urllib3<1.27,>=1.21.1 in /home/pmeslaf/.conda/envs/pruebas_env/lib/python3.7/site-packages (from requests<3,>=2.21.0->tensorboard~=2.4->tensorflow-gpu==2.4) (1.26.5)\n",
            "Requirement already satisfied: certifi>=2017.4.17 in /home/pmeslaf/.conda/envs/pruebas_env/lib/python3.7/site-packages (from requests<3,>=2.21.0->tensorboard~=2.4->tensorflow-gpu==2.4) (2021.5.30)\n",
            "Requirement already satisfied: idna<3,>=2.5 in /home/pmeslaf/.conda/envs/pruebas_env/lib/python3.7/site-packages (from requests<3,>=2.21.0->tensorboard~=2.4->tensorflow-gpu==2.4) (2.10)\n",
            "Requirement already satisfied: oauthlib>=3.0.0 in /home/pmeslaf/.conda/envs/pruebas_env/lib/python3.7/site-packages (from requests-oauthlib>=0.7.0->google-auth-oauthlib<0.5,>=0.4.1->tensorboard~=2.4->tensorflow-gpu==2.4) (3.1.1)\n",
            "Requirement already satisfied: scipy>=0.14 in /home/pmeslaf/.conda/envs/pruebas_env/lib/python3.7/site-packages (from keras) (1.4.1)\n",
            "Requirement already satisfied: pyyaml in /home/pmeslaf/.conda/envs/pruebas_env/lib/python3.7/site-packages (from keras) (5.4.1)\n",
            "Requirement already satisfied: zipp>=0.5 in /home/pmeslaf/.conda/envs/pruebas_env/lib/python3.7/site-packages (from importlib-metadata->markdown>=2.6.8->tensorboard~=2.4->tensorflow-gpu==2.4) (3.4.1)\n"
          ]
        }
      ],
      "metadata": {
        "colab": {
          "base_uri": "https://localhost:8080/"
        },
        "id": "10PyY7GC6uCw",
        "outputId": "d4d77646-0d9b-4085-a992-82e015f426b1"
      }
    },
    {
      "cell_type": "code",
      "execution_count": 2,
      "source": [
        "# pip uninstall tensorflow-gpu tensorflow keras"
      ],
      "outputs": [],
      "metadata": {}
    },
    {
      "cell_type": "code",
      "execution_count": 3,
      "source": [
        "# !pip install git+https://github.com/JihongJu/keras-resnet3d.git"
      ],
      "outputs": [],
      "metadata": {
        "id": "HZjU4w5ofRBu"
      }
    },
    {
      "cell_type": "markdown",
      "source": [
        "Import Packages"
      ],
      "metadata": {
        "id": "CZLhEj--wJHW"
      }
    },
    {
      "cell_type": "code",
      "execution_count": 4,
      "source": [
        "import os\n",
        "# os.environ[\"CUDA_DEVICE_ORDER\"] = \"PCI_BUS_ID\"   #if like me you do not have a lot of memory in your GPU\n",
        "# os.environ[\"CUDA_VISIBLE_DEVICES\"] = \"\" #then these two lines force keras to use your CPU\n",
        "# import keras\n",
        "from tensorflow import keras\n",
        "import tensorflow as tf\n",
        "from tensorflow.keras.models import Sequential\n",
        "import matplotlib.pyplot as plt\n",
        "# from keras.layers import Dense, Dropout, Activation, Flatten, Lambda\n",
        "# from keras.layers import Conv2D, MaxPooling2D\n",
        "from tensorflow.keras.layers import BatchNormalization as BN\n",
        "# from keras.layers import GaussianNoise as GN\n",
        "from tensorflow.keras.layers import Dense, Flatten, Conv3D, MaxPooling3D, MaxPool3D, GlobalAveragePooling3D, Dropout, Activation\n",
        "from tensorflow.keras.optimizers import Adam, SGD, RMSprop\n",
        "# from tensorflow.keras.utils import to_categorical\n",
        "# from tensorflow.keras.utils import Sequence\n",
        "# from tensorflow.python.keras.utils import data_utils\n",
        "from tensorflow.keras.utils import plot_model\n",
        "import numpy as np\n",
        "import matplotlib.pyplot as plt\n",
        "import h5py\n",
        "from skimage import data\n",
        "from skimage.util import montage \n",
        "import skimage.transform as skTrans\n",
        "from skimage.transform import rotate\n",
        "# from skimage.transform import resize\n",
        "# from sklearn import preprocessing\n",
        "\n",
        "from glob import glob\n",
        "\n",
        "import SimpleITK as sitk\n",
        "# import nibabel as nib"
      ],
      "outputs": [],
      "metadata": {
        "id": "-7hrgrNuu1KS"
      }
    },
    {
      "cell_type": "markdown",
      "source": [
        "**Load and prepare data**"
      ],
      "metadata": {
        "id": "znqIEoxb4034"
      }
    },
    {
      "cell_type": "code",
      "execution_count": 5,
      "source": [
        "# from google.colab import drive\n",
        "# drive.mount('/content/drive')\n",
        "\n",
        "# project_dir = \"drive/MyDrive/Colab Notebooks/TFM/DATA/\"\n",
        "\n",
        "project_dir = \"/home/pmeslaf/DATA/\""
      ],
      "outputs": [],
      "metadata": {
        "colab": {
          "base_uri": "https://localhost:8080/"
        },
        "id": "Ucs3UqFi5ok8",
        "outputId": "d7d94588-f981-4d7f-dc2d-8f06ff386811"
      }
    },
    {
      "cell_type": "code",
      "execution_count": 6,
      "source": [
        "batch_size = 5\n",
        "epochs = 100\n",
        "# frozen_epochs = 100\n",
        "num_classes = 3\n",
        "images_shape = (192,192,160)\n",
        "n_channels = 1"
      ],
      "outputs": [],
      "metadata": {
        "id": "Qo3skwY9J8Gf"
      }
    },
    {
      "cell_type": "markdown",
      "source": [
        "Custom Image Generator"
      ],
      "metadata": {
        "id": "DvD7ZmqZ51_z"
      }
    },
    {
      "cell_type": "code",
      "execution_count": 7,
      "source": [
        "from data_generator import DataGenerator"
      ],
      "outputs": [],
      "metadata": {
        "id": "0O0Nxebo589T"
      }
    },
    {
      "cell_type": "markdown",
      "source": [
        "**Prepare data**"
      ],
      "metadata": {
        "id": "jiPwA_o6Hi9O"
      }
    },
    {
      "cell_type": "code",
      "execution_count": 8,
      "source": [
        "training_generator = DataGenerator(data_path=project_dir + '/Train/',\n",
        "                                   dim=images_shape,\n",
        "                                   batch_size = batch_size,\n",
        "                                   n_channels = n_channels,\n",
        "                                   num_classes=num_classes,\n",
        "                                   shuffle=True,\n",
        "                                   rotation=60)\n",
        "# valid_generator = DataGenerator(val_ids)\n",
        "test_generator = DataGenerator(data_path=project_dir + '/Test/',\n",
        "                                   dim=images_shape,\n",
        "                                   batch_size = batch_size,\n",
        "                                   n_channels = n_channels,\n",
        "                                   num_classes=num_classes,\n",
        "                                   shuffle=False)\n"
      ],
      "outputs": [
        {
          "output_type": "stream",
          "name": "stdout",
          "text": [
            "1434 image(s) found in /home/pmeslaf/DATA//Train/\n",
            "475 image(s) found in /home/pmeslaf/DATA//Test/\n"
          ]
        }
      ],
      "metadata": {
        "id": "beEBdPc-HlS_"
      }
    },
    {
      "cell_type": "code",
      "execution_count": 9,
      "source": [
        "print('len ', str(training_generator.__len__()))\n",
        "print(type(training_generator.__len__()))\n",
        "print('len ', str(len(training_generator)))\n",
        "# X, y = training_generator.__getitem__(1)\n",
        "X, y = training_generator[1]\n",
        "\n",
        "plt.imshow(X[0,:,:,72, 0], cmap='gray' )\n",
        "plt.show()\n",
        "\n",
        "print(type(training_generator))"
      ],
      "outputs": [
        {
          "output_type": "stream",
          "name": "stdout",
          "text": [
            "len  286\n",
            "<class 'int'>\n",
            "len  286\n"
          ]
        },
        {
          "output_type": "display_data",
          "data": {
            "text/plain": [
              "<Figure size 432x288 with 1 Axes>"
            ],
            "image/svg+xml": "<?xml version=\"1.0\" encoding=\"utf-8\" standalone=\"no\"?>\n<!DOCTYPE svg PUBLIC \"-//W3C//DTD SVG 1.1//EN\"\n  \"http://www.w3.org/Graphics/SVG/1.1/DTD/svg11.dtd\">\n<svg height=\"251.751094pt\" version=\"1.1\" viewBox=\"0 0 257.9275 251.751094\" width=\"257.9275pt\" xmlns=\"http://www.w3.org/2000/svg\" xmlns:xlink=\"http://www.w3.org/1999/xlink\">\n <metadata>\n  <rdf:RDF xmlns:cc=\"http://creativecommons.org/ns#\" xmlns:dc=\"http://purl.org/dc/elements/1.1/\" xmlns:rdf=\"http://www.w3.org/1999/02/22-rdf-syntax-ns#\">\n   <cc:Work>\n    <dc:type rdf:resource=\"http://purl.org/dc/dcmitype/StillImage\"/>\n    <dc:date>2021-08-09T10:27:23.863642</dc:date>\n    <dc:format>image/svg+xml</dc:format>\n    <dc:creator>\n     <cc:Agent>\n      <dc:title>Matplotlib v3.4.2, https://matplotlib.org/</dc:title>\n     </cc:Agent>\n    </dc:creator>\n   </cc:Work>\n  </rdf:RDF>\n </metadata>\n <defs>\n  <style type=\"text/css\">*{stroke-linecap:butt;stroke-linejoin:round;}</style>\n </defs>\n <g id=\"figure_1\">\n  <g id=\"patch_1\">\n   <path d=\"M 0 251.751094 \nL 257.9275 251.751094 \nL 257.9275 0 \nL 0 0 \nz\n\" style=\"fill:none;\"/>\n  </g>\n  <g id=\"axes_1\">\n   <g id=\"patch_2\">\n    <path d=\"M 33.2875 227.872969 \nL 250.7275 227.872969 \nL 250.7275 10.432969 \nL 33.2875 10.432969 \nz\n\" style=\"fill:#ffffff;\"/>\n   </g>\n   <g clip-path=\"url(#p1c36fca70b)\">\n    <image height=\"218\" id=\"imagec586d34ca0\" transform=\"scale(1 -1)translate(0 -218)\" width=\"218\" x=\"33.2875\" xlink:href=\"data:image/png;base64,\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\" y=\"-9.872969\"/>\n   </g>\n   <g id=\"matplotlib.axis_1\">\n    <g id=\"xtick_1\">\n     <g id=\"line2d_1\">\n      <defs>\n       <path d=\"M 0 0 \nL 0 3.5 \n\" id=\"mb17f3369af\" style=\"stroke:#000000;stroke-width:0.8;\"/>\n      </defs>\n      <g>\n       <use style=\"stroke:#000000;stroke-width:0.8;\" x=\"33.85375\" xlink:href=\"#mb17f3369af\" y=\"227.872969\"/>\n      </g>\n     </g>\n     <g id=\"text_1\">\n      <!-- 0 -->\n      <g transform=\"translate(30.6725 242.471406)scale(0.1 -0.1)\">\n       <defs>\n        <path d=\"M 2034 4250 \nQ 1547 4250 1301 3770 \nQ 1056 3291 1056 2328 \nQ 1056 1369 1301 889 \nQ 1547 409 2034 409 \nQ 2525 409 2770 889 \nQ 3016 1369 3016 2328 \nQ 3016 3291 2770 3770 \nQ 2525 4250 2034 4250 \nz\nM 2034 4750 \nQ 2819 4750 3233 4129 \nQ 3647 3509 3647 2328 \nQ 3647 1150 3233 529 \nQ 2819 -91 2034 -91 \nQ 1250 -91 836 529 \nQ 422 1150 422 2328 \nQ 422 3509 836 4129 \nQ 1250 4750 2034 4750 \nz\n\" id=\"DejaVuSans-30\" transform=\"scale(0.015625)\"/>\n       </defs>\n       <use xlink:href=\"#DejaVuSans-30\"/>\n      </g>\n     </g>\n    </g>\n    <g id=\"xtick_2\">\n     <g id=\"line2d_2\">\n      <g>\n       <use style=\"stroke:#000000;stroke-width:0.8;\" x=\"90.47875\" xlink:href=\"#mb17f3369af\" y=\"227.872969\"/>\n      </g>\n     </g>\n     <g id=\"text_2\">\n      <!-- 50 -->\n      <g transform=\"translate(84.11625 242.471406)scale(0.1 -0.1)\">\n       <defs>\n        <path d=\"M 691 4666 \nL 3169 4666 \nL 3169 4134 \nL 1269 4134 \nL 1269 2991 \nQ 1406 3038 1543 3061 \nQ 1681 3084 1819 3084 \nQ 2600 3084 3056 2656 \nQ 3513 2228 3513 1497 \nQ 3513 744 3044 326 \nQ 2575 -91 1722 -91 \nQ 1428 -91 1123 -41 \nQ 819 9 494 109 \nL 494 744 \nQ 775 591 1075 516 \nQ 1375 441 1709 441 \nQ 2250 441 2565 725 \nQ 2881 1009 2881 1497 \nQ 2881 1984 2565 2268 \nQ 2250 2553 1709 2553 \nQ 1456 2553 1204 2497 \nQ 953 2441 691 2322 \nL 691 4666 \nz\n\" id=\"DejaVuSans-35\" transform=\"scale(0.015625)\"/>\n       </defs>\n       <use xlink:href=\"#DejaVuSans-35\"/>\n       <use x=\"63.623047\" xlink:href=\"#DejaVuSans-30\"/>\n      </g>\n     </g>\n    </g>\n    <g id=\"xtick_3\">\n     <g id=\"line2d_3\">\n      <g>\n       <use style=\"stroke:#000000;stroke-width:0.8;\" x=\"147.10375\" xlink:href=\"#mb17f3369af\" y=\"227.872969\"/>\n      </g>\n     </g>\n     <g id=\"text_3\">\n      <!-- 100 -->\n      <g transform=\"translate(137.56 242.471406)scale(0.1 -0.1)\">\n       <defs>\n        <path d=\"M 794 531 \nL 1825 531 \nL 1825 4091 \nL 703 3866 \nL 703 4441 \nL 1819 4666 \nL 2450 4666 \nL 2450 531 \nL 3481 531 \nL 3481 0 \nL 794 0 \nL 794 531 \nz\n\" id=\"DejaVuSans-31\" transform=\"scale(0.015625)\"/>\n       </defs>\n       <use xlink:href=\"#DejaVuSans-31\"/>\n       <use x=\"63.623047\" xlink:href=\"#DejaVuSans-30\"/>\n       <use x=\"127.246094\" xlink:href=\"#DejaVuSans-30\"/>\n      </g>\n     </g>\n    </g>\n    <g id=\"xtick_4\">\n     <g id=\"line2d_4\">\n      <g>\n       <use style=\"stroke:#000000;stroke-width:0.8;\" x=\"203.72875\" xlink:href=\"#mb17f3369af\" y=\"227.872969\"/>\n      </g>\n     </g>\n     <g id=\"text_4\">\n      <!-- 150 -->\n      <g transform=\"translate(194.185 242.471406)scale(0.1 -0.1)\">\n       <use xlink:href=\"#DejaVuSans-31\"/>\n       <use x=\"63.623047\" xlink:href=\"#DejaVuSans-35\"/>\n       <use x=\"127.246094\" xlink:href=\"#DejaVuSans-30\"/>\n      </g>\n     </g>\n    </g>\n   </g>\n   <g id=\"matplotlib.axis_2\">\n    <g id=\"ytick_1\">\n     <g id=\"line2d_5\">\n      <defs>\n       <path d=\"M 0 0 \nL -3.5 0 \n\" id=\"m23d3a70240\" style=\"stroke:#000000;stroke-width:0.8;\"/>\n      </defs>\n      <g>\n       <use style=\"stroke:#000000;stroke-width:0.8;\" x=\"33.2875\" xlink:href=\"#m23d3a70240\" y=\"10.999219\"/>\n      </g>\n     </g>\n     <g id=\"text_5\">\n      <!-- 0 -->\n      <g transform=\"translate(19.925 14.798437)scale(0.1 -0.1)\">\n       <use xlink:href=\"#DejaVuSans-30\"/>\n      </g>\n     </g>\n    </g>\n    <g id=\"ytick_2\">\n     <g id=\"line2d_6\">\n      <g>\n       <use style=\"stroke:#000000;stroke-width:0.8;\" x=\"33.2875\" xlink:href=\"#m23d3a70240\" y=\"39.311719\"/>\n      </g>\n     </g>\n     <g id=\"text_6\">\n      <!-- 25 -->\n      <g transform=\"translate(13.5625 43.110937)scale(0.1 -0.1)\">\n       <defs>\n        <path d=\"M 1228 531 \nL 3431 531 \nL 3431 0 \nL 469 0 \nL 469 531 \nQ 828 903 1448 1529 \nQ 2069 2156 2228 2338 \nQ 2531 2678 2651 2914 \nQ 2772 3150 2772 3378 \nQ 2772 3750 2511 3984 \nQ 2250 4219 1831 4219 \nQ 1534 4219 1204 4116 \nQ 875 4013 500 3803 \nL 500 4441 \nQ 881 4594 1212 4672 \nQ 1544 4750 1819 4750 \nQ 2544 4750 2975 4387 \nQ 3406 4025 3406 3419 \nQ 3406 3131 3298 2873 \nQ 3191 2616 2906 2266 \nQ 2828 2175 2409 1742 \nQ 1991 1309 1228 531 \nz\n\" id=\"DejaVuSans-32\" transform=\"scale(0.015625)\"/>\n       </defs>\n       <use xlink:href=\"#DejaVuSans-32\"/>\n       <use x=\"63.623047\" xlink:href=\"#DejaVuSans-35\"/>\n      </g>\n     </g>\n    </g>\n    <g id=\"ytick_3\">\n     <g id=\"line2d_7\">\n      <g>\n       <use style=\"stroke:#000000;stroke-width:0.8;\" x=\"33.2875\" xlink:href=\"#m23d3a70240\" y=\"67.624219\"/>\n      </g>\n     </g>\n     <g id=\"text_7\">\n      <!-- 50 -->\n      <g transform=\"translate(13.5625 71.423437)scale(0.1 -0.1)\">\n       <use xlink:href=\"#DejaVuSans-35\"/>\n       <use x=\"63.623047\" xlink:href=\"#DejaVuSans-30\"/>\n      </g>\n     </g>\n    </g>\n    <g id=\"ytick_4\">\n     <g id=\"line2d_8\">\n      <g>\n       <use style=\"stroke:#000000;stroke-width:0.8;\" x=\"33.2875\" xlink:href=\"#m23d3a70240\" y=\"95.936719\"/>\n      </g>\n     </g>\n     <g id=\"text_8\">\n      <!-- 75 -->\n      <g transform=\"translate(13.5625 99.735937)scale(0.1 -0.1)\">\n       <defs>\n        <path d=\"M 525 4666 \nL 3525 4666 \nL 3525 4397 \nL 1831 0 \nL 1172 0 \nL 2766 4134 \nL 525 4134 \nL 525 4666 \nz\n\" id=\"DejaVuSans-37\" transform=\"scale(0.015625)\"/>\n       </defs>\n       <use xlink:href=\"#DejaVuSans-37\"/>\n       <use x=\"63.623047\" xlink:href=\"#DejaVuSans-35\"/>\n      </g>\n     </g>\n    </g>\n    <g id=\"ytick_5\">\n     <g id=\"line2d_9\">\n      <g>\n       <use style=\"stroke:#000000;stroke-width:0.8;\" x=\"33.2875\" xlink:href=\"#m23d3a70240\" y=\"124.249219\"/>\n      </g>\n     </g>\n     <g id=\"text_9\">\n      <!-- 100 -->\n      <g transform=\"translate(7.2 128.048437)scale(0.1 -0.1)\">\n       <use xlink:href=\"#DejaVuSans-31\"/>\n       <use x=\"63.623047\" xlink:href=\"#DejaVuSans-30\"/>\n       <use x=\"127.246094\" xlink:href=\"#DejaVuSans-30\"/>\n      </g>\n     </g>\n    </g>\n    <g id=\"ytick_6\">\n     <g id=\"line2d_10\">\n      <g>\n       <use style=\"stroke:#000000;stroke-width:0.8;\" x=\"33.2875\" xlink:href=\"#m23d3a70240\" y=\"152.561719\"/>\n      </g>\n     </g>\n     <g id=\"text_10\">\n      <!-- 125 -->\n      <g transform=\"translate(7.2 156.360937)scale(0.1 -0.1)\">\n       <use xlink:href=\"#DejaVuSans-31\"/>\n       <use x=\"63.623047\" xlink:href=\"#DejaVuSans-32\"/>\n       <use x=\"127.246094\" xlink:href=\"#DejaVuSans-35\"/>\n      </g>\n     </g>\n    </g>\n    <g id=\"ytick_7\">\n     <g id=\"line2d_11\">\n      <g>\n       <use style=\"stroke:#000000;stroke-width:0.8;\" x=\"33.2875\" xlink:href=\"#m23d3a70240\" y=\"180.874219\"/>\n      </g>\n     </g>\n     <g id=\"text_11\">\n      <!-- 150 -->\n      <g transform=\"translate(7.2 184.673437)scale(0.1 -0.1)\">\n       <use xlink:href=\"#DejaVuSans-31\"/>\n       <use x=\"63.623047\" xlink:href=\"#DejaVuSans-35\"/>\n       <use x=\"127.246094\" xlink:href=\"#DejaVuSans-30\"/>\n      </g>\n     </g>\n    </g>\n    <g id=\"ytick_8\">\n     <g id=\"line2d_12\">\n      <g>\n       <use style=\"stroke:#000000;stroke-width:0.8;\" x=\"33.2875\" xlink:href=\"#m23d3a70240\" y=\"209.186719\"/>\n      </g>\n     </g>\n     <g id=\"text_12\">\n      <!-- 175 -->\n      <g transform=\"translate(7.2 212.985937)scale(0.1 -0.1)\">\n       <use xlink:href=\"#DejaVuSans-31\"/>\n       <use x=\"63.623047\" xlink:href=\"#DejaVuSans-37\"/>\n       <use x=\"127.246094\" xlink:href=\"#DejaVuSans-35\"/>\n      </g>\n     </g>\n    </g>\n   </g>\n   <g id=\"patch_3\">\n    <path d=\"M 33.2875 227.872969 \nL 33.2875 10.432969 \n\" style=\"fill:none;stroke:#000000;stroke-linecap:square;stroke-linejoin:miter;stroke-width:0.8;\"/>\n   </g>\n   <g id=\"patch_4\">\n    <path d=\"M 250.7275 227.872969 \nL 250.7275 10.432969 \n\" style=\"fill:none;stroke:#000000;stroke-linecap:square;stroke-linejoin:miter;stroke-width:0.8;\"/>\n   </g>\n   <g id=\"patch_5\">\n    <path d=\"M 33.2875 227.872969 \nL 250.7275 227.872969 \n\" style=\"fill:none;stroke:#000000;stroke-linecap:square;stroke-linejoin:miter;stroke-width:0.8;\"/>\n   </g>\n   <g id=\"patch_6\">\n    <path d=\"M 33.2875 10.432969 \nL 250.7275 10.432969 \n\" style=\"fill:none;stroke:#000000;stroke-linecap:square;stroke-linejoin:miter;stroke-width:0.8;\"/>\n   </g>\n  </g>\n </g>\n <defs>\n  <clipPath id=\"p1c36fca70b\">\n   <rect height=\"217.44\" width=\"217.44\" x=\"33.2875\" y=\"10.432969\"/>\n  </clipPath>\n </defs>\n</svg>\n",
            "image/png": "[encoded data removed]"
          },
          "metadata": {
            "needs_background": "light"
          }
        },
        {
          "output_type": "stream",
          "name": "stdout",
          "text": [
            "<class 'data_generator.DataGenerator'>\n"
          ]
        }
      ],
      "metadata": {
        "id": "nHuqA1b6y_vR"
      }
    },
    {
      "cell_type": "markdown",
      "source": [
        "**MODEL**"
      ],
      "metadata": {
        "id": "RJ6JV7nvAAXR"
      }
    },
    {
      "cell_type": "code",
      "execution_count": 10,
      "source": [
        "from tensorflow.keras.models import Model\n",
        "sample_shape=(192,192,160,1)\n",
        "# Create the model\n",
        "# model = Sequential()\n",
        "# model.add(Conv3D(32, kernel_size=(3, 3, 3), activation='relu', kernel_initializer='he_uniform', input_shape=sample_shape))\n",
        "# model.add(MaxPooling3D(pool_size=(2, 2, 2)))\n",
        "# model.add(BatchNormalization(center=True, scale=True))\n",
        "# model.add(Dropout(0.5))\n",
        "# # model.add(Conv3D(64, kernel_size=(3, 3, 3), activation='relu', kernel_initializer='he_uniform'))\n",
        "# # model.add(MaxPooling3D(pool_size=(2, 2, 2)))\n",
        "# # model.add(BatchNormalization(center=True, scale=True))\n",
        "# # model.add(Dropout(0.5))\n",
        "# model.add(Flatten())\n",
        "# model.add(Dense(256, activation='relu', kernel_initializer='he_uniform'))\n",
        "# model.add(Dense(256, activation='relu', kernel_initializer='he_uniform'))\n",
        "# model.add(Dense(10, activation='softmax'))\n",
        "\n",
        "# model.summary()\n",
        "\n",
        "\n",
        "# from resnet3d import Resnet3DBuilder\n",
        "# base_model = Resnet3DBuilder.build_resnet_18(\n",
        "#     input_shape=sample_shape,\n",
        "#     num_outputs=num_classes,\n",
        "#     reg_factor=0.04\n",
        "# )\n",
        "\n",
        "# # add the final layers and compile\n",
        "# fc_layer = tf.keras.layers.Dense(512, activation='relu')(base_model.layers[-2].output)\n",
        "# fc_layer = tf.keras.layers.Dropout(0.8)(fc_layer)\n",
        "# output_layer = tf.keras.layers.Dense(N_CLASSES, activation='softmax')(fc_layer)\n",
        "# model = tf.keras.models.Model(inputs=base_model.input, outputs=output_layer)\n",
        "# optimizer = tf.keras.optimizers.Adam(lr=0.00001)\n",
        "# model.compile(optimizer=optimizer, \n",
        "#               loss='categorical_crossentropy', \n",
        "#               metrics=['acc'])\n",
        "\n",
        "# # train the model\n",
        "# model.fit(x=image_tensor, y=label_tensor, epochs=50, \n",
        "#           steps_per_epoch=STEPS_PER_EPOCH, \n",
        "#           validation_data=val_tensor, \n",
        "#           validation_steps=VALIDATION_STEPS)\n",
        "\n",
        "\n",
        "def get_model(width=192, height=192, depth=160):\n",
        "    \"\"\"Build a 3D convolutional neural network model.\"\"\"\n",
        "\n",
        "    inputs = keras.Input((width, height, depth, 1))\n",
        "\n",
        "    x = Conv3D(filters=64, kernel_size=3, activation=\"relu\")(inputs)\n",
        "    x = MaxPool3D(pool_size=2)(x)\n",
        "    x = BatchNormalization()(x)\n",
        "\n",
        "    x = Conv3D(filters=64, kernel_size=3, activation=\"relu\")(x)\n",
        "    x = MaxPool3D(pool_size=2)(x)\n",
        "    x = BatchNormalization()(x)\n",
        "\n",
        "    x = Conv3D(filters=128, kernel_size=3, activation=\"relu\")(x)\n",
        "    x = MaxPool3D(pool_size=2)(x)\n",
        "    x = BatchNormalization()(x)\n",
        "\n",
        "    x = Conv3D(filters=256, kernel_size=3, activation=\"relu\")(x)\n",
        "    x = MaxPool3D(pool_size=2)(x)\n",
        "    x = BatchNormalization()(x)\n",
        "\n",
        "    x = GlobalAveragePooling3D()(x)\n",
        "    x = Dense(units=512, activation=\"relu\")(x)\n",
        "    x = Dropout(0.3)(x)\n",
        "\n",
        "    outputs = Dense(units=num_classes, activation=\"sigmoid\")(x)\n",
        "\n",
        "    # Define the model.\n",
        "    model = keras.Model(inputs, outputs, name=\"3dcnn\")\n",
        "    return model\n",
        "\n",
        "\n",
        "# # Build model.\n",
        "# model = get_model(width=192, height=192, depth=160)\n",
        "# model.summary()"
      ],
      "outputs": [],
      "metadata": {
        "id": "HN-KMog9ACyp",
        "colab": {
          "base_uri": "https://localhost:8080/"
        },
        "outputId": "53a4add4-76c7-4bd4-f10e-dfd516f18254"
      }
    },
    {
      "cell_type": "code",
      "execution_count": 11,
      "source": [
        "## DEF A BLOCK CONV + BN + GN + CONV + BN + GN + MAXPOOL \n",
        "def CBGN(model,filters,lname,ishape=0):\n",
        "  if (ishape!=0):\n",
        "    model.add(Conv3D(filters=filters, kernel_size=3, activation=\"relu\",\n",
        "                 input_shape=ishape))\n",
        "  else:\n",
        "    model.add(Conv3D(filters=filters, kernel_size=3, activation=\"relu\"))\n",
        "    \n",
        "  model.add(BN())\n",
        "#   model.add(GN(0.2))\n",
        "\n",
        "  model.add(Conv3D(filters=filters, kernel_size=3, activation=\"relu\"))\n",
        "  model.add(BN())\n",
        "#   model.add(GN(0.2))\n",
        "\n",
        "  model.add(MaxPool3D(pool_size=2,name=lname))\n",
        "  \n",
        "  return model\n",
        "\n",
        "\n",
        "model = Sequential()\n",
        "\n",
        "model=CBGN(model,32,'conv_model_1',(192,192,160,1))\n",
        "model=CBGN(model,64,'conv_model_2')\n",
        "model=CBGN(model,128,'conv_modeL_3')\n",
        "model=CBGN(model,256,'conv_modeL_4')\n",
        "model=CBGN(model,512,'conv_model_5')\n",
        "\n",
        "# model.add(Flatten())\n",
        "model.add(GlobalAveragePooling3D())\n",
        "model.add(Dense(units=512, activation=\"relu\"))\n",
        "model.add(BN())\n",
        "# model.add(GN(0.3))\n",
        "model.add(Dropout(0.5))\n",
        "model.add(Dense(num_classes))\n",
        "model.add(Activation('softmax'))\n",
        "# model.add(Activation('sigmoid'))\n",
        "\n",
        "model.summary()"
      ],
      "outputs": [
        {
          "output_type": "stream",
          "name": "stdout",
          "text": [
            "Model: \"sequential\"\n",
            "_________________________________________________________________\n",
            "Layer (type)                 Output Shape              Param #   \n",
            "=================================================================\n",
            "conv3d (Conv3D)              (None, 190, 190, 158, 32) 896       \n",
            "_________________________________________________________________\n",
            "batch_normalization (BatchNo (None, 190, 190, 158, 32) 128       \n",
            "_________________________________________________________________\n",
            "conv3d_1 (Conv3D)            (None, 188, 188, 156, 32) 27680     \n",
            "_________________________________________________________________\n",
            "batch_normalization_1 (Batch (None, 188, 188, 156, 32) 128       \n",
            "_________________________________________________________________\n",
            "conv_model_1 (MaxPooling3D)  (None, 94, 94, 78, 32)    0         \n",
            "_________________________________________________________________\n",
            "conv3d_2 (Conv3D)            (None, 92, 92, 76, 64)    55360     \n",
            "_________________________________________________________________\n",
            "batch_normalization_2 (Batch (None, 92, 92, 76, 64)    256       \n",
            "_________________________________________________________________\n",
            "conv3d_3 (Conv3D)            (None, 90, 90, 74, 64)    110656    \n",
            "_________________________________________________________________\n",
            "batch_normalization_3 (Batch (None, 90, 90, 74, 64)    256       \n",
            "_________________________________________________________________\n",
            "conv_model_2 (MaxPooling3D)  (None, 45, 45, 37, 64)    0         \n",
            "_________________________________________________________________\n",
            "conv3d_4 (Conv3D)            (None, 43, 43, 35, 128)   221312    \n",
            "_________________________________________________________________\n",
            "batch_normalization_4 (Batch (None, 43, 43, 35, 128)   512       \n",
            "_________________________________________________________________\n",
            "conv3d_5 (Conv3D)            (None, 41, 41, 33, 128)   442496    \n",
            "_________________________________________________________________\n",
            "batch_normalization_5 (Batch (None, 41, 41, 33, 128)   512       \n",
            "_________________________________________________________________\n",
            "conv_modeL_3 (MaxPooling3D)  (None, 20, 20, 16, 128)   0         \n",
            "_________________________________________________________________\n",
            "conv3d_6 (Conv3D)            (None, 18, 18, 14, 256)   884992    \n",
            "_________________________________________________________________\n",
            "batch_normalization_6 (Batch (None, 18, 18, 14, 256)   1024      \n",
            "_________________________________________________________________\n",
            "conv3d_7 (Conv3D)            (None, 16, 16, 12, 256)   1769728   \n",
            "_________________________________________________________________\n",
            "batch_normalization_7 (Batch (None, 16, 16, 12, 256)   1024      \n",
            "_________________________________________________________________\n",
            "conv_modeL_4 (MaxPooling3D)  (None, 8, 8, 6, 256)      0         \n",
            "_________________________________________________________________\n",
            "conv3d_8 (Conv3D)            (None, 6, 6, 4, 512)      3539456   \n",
            "_________________________________________________________________\n",
            "batch_normalization_8 (Batch (None, 6, 6, 4, 512)      2048      \n",
            "_________________________________________________________________\n",
            "conv3d_9 (Conv3D)            (None, 4, 4, 2, 512)      7078400   \n",
            "_________________________________________________________________\n",
            "batch_normalization_9 (Batch (None, 4, 4, 2, 512)      2048      \n",
            "_________________________________________________________________\n",
            "conv_model_5 (MaxPooling3D)  (None, 2, 2, 1, 512)      0         \n",
            "_________________________________________________________________\n",
            "global_average_pooling3d (Gl (None, 512)               0         \n",
            "_________________________________________________________________\n",
            "dense (Dense)                (None, 512)               262656    \n",
            "_________________________________________________________________\n",
            "batch_normalization_10 (Batc (None, 512)               2048      \n",
            "_________________________________________________________________\n",
            "dropout (Dropout)            (None, 512)               0         \n",
            "_________________________________________________________________\n",
            "dense_1 (Dense)              (None, 3)                 1539      \n",
            "_________________________________________________________________\n",
            "activation (Activation)      (None, 3)                 0         \n",
            "=================================================================\n",
            "Total params: 14,405,155\n",
            "Trainable params: 14,400,163\n",
            "Non-trainable params: 4,992\n",
            "_________________________________________________________________\n"
          ]
        }
      ],
      "metadata": {}
    },
    {
      "cell_type": "code",
      "execution_count": 12,
      "source": [
        "# plot_model(model, \n",
        "#            show_shapes = True,\n",
        "#            show_dtype=False,\n",
        "#            show_layer_names = True, \n",
        "#            rankdir = 'TB', \n",
        "#            expand_nested = False, \n",
        "#            dpi = 70)"
      ],
      "outputs": [],
      "metadata": {
        "id": "sFsqpPJRlf3J"
      }
    },
    {
      "cell_type": "code",
      "execution_count": 13,
      "source": [
        "opt = Adam(1, decay=1e-6)"
      ],
      "outputs": [],
      "metadata": {
        "id": "QPwDKMduPH3b"
      }
    },
    {
      "cell_type": "code",
      "execution_count": 14,
      "source": [
        "# Compile the model\n",
        "model.compile(loss='categorical_crossentropy',\n",
        "              optimizer=opt,\n",
        "              metrics=['accuracy'])"
      ],
      "outputs": [],
      "metadata": {
        "id": "PmyJqaF_O6h4"
      }
    },
    {
      "cell_type": "code",
      "execution_count": 15,
      "source": [
        "# Fit data to model\n",
        "history = model.fit(x=training_generator,\n",
        "                    epochs=epochs,\n",
        "                    verbose=1,\n",
        "                    validation_data = test_generator)"
      ],
      "outputs": [
        {
          "output_type": "stream",
          "name": "stdout",
          "text": [
            "Epoch 1/100\n"
          ]
        }
      ],
      "metadata": {
        "id": "dcYUb-uAO8d5",
        "colab": {
          "base_uri": "https://localhost:8080/"
        },
        "outputId": "24b0c966-edc1-4959-ee2d-e8dcf14c41a5"
      }
    },
    {
      "cell_type": "code",
      "execution_count": null,
      "source": [
        "# from tensorflow.python.client import device_lib\n",
        "# print(device_lib.list_local_devices())\n",
        "\n",
        "# import tensorflow as tf\n",
        "# tf.compat.v1.keras.backend.tensorflow_backend._get_available_gpus()"
      ],
      "outputs": [],
      "metadata": {}
    }
  ]
}