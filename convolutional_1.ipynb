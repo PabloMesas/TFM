{
  "nbformat": 4,
  "nbformat_minor": 2,
  "metadata": {
    "colab": {
      "name": "convolutional_1.ipynb",
      "provenance": [],
      "collapsed_sections": [],
      "mount_file_id": "17VBdqomreofRALqlfF0XsI5hEQfrX4-E",
      "authorship_tag": "ABX9TyOc/WPZz6spf7zFn0qp1JO2"
    },
    "kernelspec": {
      "name": "python3",
      "display_name": "Python 3.7.10 64-bit ('pruebas_env': conda)"
    },
    "language_info": {
      "name": "python",
      "version": "3.7.10",
      "mimetype": "text/x-python",
      "codemirror_mode": {
        "name": "ipython",
        "version": 3
      },
      "pygments_lexer": "ipython3",
      "nbconvert_exporter": "python",
      "file_extension": ".py"
    },
    "interpreter": {
      "hash": "2fb176d0394d4e3eb5a4919b2d839568523166680b760a18060413ce7022ce94"
    }
  },
  "cells": [
    {
      "cell_type": "markdown",
      "source": [
        "\n",
        "\n",
        "Install dependencies\n",
        "\n",
        "\n"
      ],
      "metadata": {
        "id": "RurXunB-6nMi"
      }
    },
    {
      "cell_type": "code",
      "execution_count": 1,
      "source": [
        "# !pip install tensorflow-gpu==2.2 keras simpleitk matplotlib scikit-image"
      ],
      "outputs": [],
      "metadata": {
        "colab": {
          "base_uri": "https://localhost:8080/"
        },
        "id": "10PyY7GC6uCw",
        "outputId": "d4d77646-0d9b-4085-a992-82e015f426b1"
      }
    },
    {
      "cell_type": "code",
      "execution_count": 2,
      "source": [
        "# pip uninstall tensorflow-gpu tensorflow keras"
      ],
      "outputs": [],
      "metadata": {}
    },
    {
      "cell_type": "code",
      "execution_count": 3,
      "source": [
        "# !pip install git+https://github.com/JihongJu/keras-resnet3d.git"
      ],
      "outputs": [],
      "metadata": {
        "id": "HZjU4w5ofRBu"
      }
    },
    {
      "cell_type": "markdown",
      "source": [
        "Import Packages"
      ],
      "metadata": {
        "id": "CZLhEj--wJHW"
      }
    },
    {
      "cell_type": "code",
      "execution_count": 4,
      "source": [
        "import os\n",
        "# os.environ[\"CUDA_DEVICE_ORDER\"] = \"PCI_BUS_ID\"   #if like me you do not have a lot of memory in your GPU\n",
        "# os.environ[\"CUDA_VISIBLE_DEVICES\"] = \"\" #then these two lines force keras to use your CPU\n",
        "# import keras\n",
        "from tensorflow import keras\n",
        "import tensorflow as tf\n",
        "from tensorflow.keras.models import Sequential\n",
        "import matplotlib.pyplot as plt\n",
        "# from keras.layers import Dense, Dropout, Activation, Flatten, Lambda\n",
        "# from keras.layers import Conv2D, MaxPooling2D\n",
        "from tensorflow.keras.layers import BatchNormalization as BN\n",
        "# from keras.layers import GaussianNoise as GN\n",
        "from tensorflow.keras.layers import Dense, Flatten, Conv3D, MaxPooling3D, MaxPool3D, GlobalAveragePooling3D, Dropout, Activation\n",
        "from tensorflow.keras.optimizers import Adam, SGD, RMSprop\n",
        "# from tensorflow.keras.utils import to_categorical\n",
        "# from tensorflow.keras.utils import Sequence\n",
        "# from tensorflow.python.keras.utils import data_utils\n",
        "from tensorflow.keras.utils import plot_model\n",
        "import numpy as np\n",
        "import matplotlib.pyplot as plt\n",
        "from skimage import data\n",
        "from skimage.util import montage \n",
        "import skimage.transform as skTrans\n",
        "from skimage.transform import rotate\n",
        "# from skimage.transform import resize\n",
        "# from sklearn import preprocessing\n",
        "\n",
        "from glob import glob\n",
        "\n",
        "import SimpleITK as sitk\n",
        "# import nibabel as nib"
      ],
      "outputs": [],
      "metadata": {
        "id": "-7hrgrNuu1KS"
      }
    },
    {
      "cell_type": "markdown",
      "source": [
        "**Load and prepare data**"
      ],
      "metadata": {
        "id": "znqIEoxb4034"
      }
    },
    {
      "cell_type": "code",
      "execution_count": 5,
      "source": [
        "# from google.colab import drive\n",
        "# drive.mount('/content/drive')\n",
        "\n",
        "# project_dir = \"drive/MyDrive/Colab Notebooks/TFM/DATA/\"\n",
        "\n",
        "project_dir = \"/home/pmeslaf/TFM/DATA/\""
      ],
      "outputs": [],
      "metadata": {
        "colab": {
          "base_uri": "https://localhost:8080/"
        },
        "id": "Ucs3UqFi5ok8",
        "outputId": "d7d94588-f981-4d7f-dc2d-8f06ff386811"
      }
    },
    {
      "cell_type": "code",
      "execution_count": 6,
      "source": [
        "# physical_devices = tf.config.experimental.list_physical_devices('GPU')\n",
        "# assert len(physical_devices) > 0, \"Not enough GPU hardware devices available\"\n",
        "# config = tf.config.experimental.set_memory_growth(physical_devices[0], True)\n",
        "# config = tf.config.experimental.set_memory_growth(physical_devices[1], True)"
      ],
      "outputs": [],
      "metadata": {}
    },
    {
      "cell_type": "code",
      "execution_count": 7,
      "source": [
        "batch_size = 1\n",
        "epochs = 100\n",
        "# frozen_epochs = 100\n",
        "num_classes = 3\n",
        "shape=120\n",
        "images_shape = (shape,shape,int(shape*0.83))\n",
        "n_channels = 1"
      ],
      "outputs": [],
      "metadata": {
        "id": "Qo3skwY9J8Gf"
      }
    },
    {
      "cell_type": "markdown",
      "source": [
        "Custom Image Generator"
      ],
      "metadata": {
        "id": "DvD7ZmqZ51_z"
      }
    },
    {
      "cell_type": "code",
      "execution_count": 8,
      "source": [
        "from data_generator import DataGenerator"
      ],
      "outputs": [],
      "metadata": {
        "id": "0O0Nxebo589T"
      }
    },
    {
      "cell_type": "markdown",
      "source": [
        "**Prepare data**"
      ],
      "metadata": {
        "id": "jiPwA_o6Hi9O"
      }
    },
    {
      "cell_type": "code",
      "execution_count": 9,
      "source": [
        "training_generator = DataGenerator(data_path=project_dir + '/Train/',\n",
        "                                   dim=images_shape,\n",
        "                                   batch_size = batch_size,\n",
        "                                   n_channels = n_channels,\n",
        "                                   num_classes=num_classes,\n",
        "                                   shuffle=True,\n",
        "                                   rotation=60)\n",
        "# valid_generator = DataGenerator(val_ids)\n",
        "test_generator = DataGenerator(data_path=project_dir + '/Test/',\n",
        "                                   dim=images_shape,\n",
        "                                   batch_size = batch_size,\n",
        "                                   n_channels = n_channels,\n",
        "                                   num_classes=num_classes,\n",
        "                                   shuffle=False)\n"
      ],
      "outputs": [
        {
          "output_type": "stream",
          "name": "stdout",
          "text": [
            "660 image(s) found in /home/pmeslaf/TFM/DATA//Train/\n",
            "132 image(s) found in /home/pmeslaf/TFM/DATA//Test/\n"
          ]
        }
      ],
      "metadata": {
        "id": "beEBdPc-HlS_"
      }
    },
    {
      "cell_type": "code",
      "execution_count": 10,
      "source": [
        "print('len ', str(training_generator.__len__()))\n",
        "print(type(training_generator.__len__()))\n",
        "print('len ', str(len(training_generator)))\n",
        "# X, y = training_generator.__getitem__(1)\n",
        "X, y = training_generator[1]\n",
        "# print(X[0,0,:,:,0])\n",
        "plt.imshow(X[0,:,:,50, 0], cmap='gray' )\n",
        "plt.show()\n",
        "\n",
        "print(type(training_generator))\n"
      ],
      "outputs": [
        {
          "output_type": "stream",
          "name": "stdout",
          "text": [
            "len  660\n",
            "<class 'int'>\n",
            "len  660\n",
            "<class 'numpy.ndarray'>\n",
            "<class 'numpy.ndarray'>\n"
          ]
        },
        {
          "output_type": "display_data",
          "data": {
            "text/plain": [
              "<Figure size 640x480 with 1 Axes>"
            ],
            "image/svg+xml": "<?xml version=\"1.0\" encoding=\"utf-8\" standalone=\"no\"?>\n<!DOCTYPE svg PUBLIC \"-//W3C//DTD SVG 1.1//EN\"\n  \"http://www.w3.org/Graphics/SVG/1.1/DTD/svg11.dtd\">\n<svg height=\"299.880544pt\" version=\"1.1\" viewBox=\"0 0 260.0299 299.880544\" width=\"260.0299pt\" xmlns=\"http://www.w3.org/2000/svg\" xmlns:xlink=\"http://www.w3.org/1999/xlink\">\n <metadata>\n  <rdf:RDF xmlns:cc=\"http://creativecommons.org/ns#\" xmlns:dc=\"http://purl.org/dc/elements/1.1/\" xmlns:rdf=\"http://www.w3.org/1999/02/22-rdf-syntax-ns#\">\n   <cc:Work>\n    <dc:type rdf:resource=\"http://purl.org/dc/dcmitype/StillImage\"/>\n    <dc:date>2021-08-11T13:36:27.147912</dc:date>\n    <dc:format>image/svg+xml</dc:format>\n    <dc:creator>\n     <cc:Agent>\n      <dc:title>Matplotlib v3.4.2, https://matplotlib.org/</dc:title>\n     </cc:Agent>\n    </dc:creator>\n   </cc:Work>\n  </rdf:RDF>\n </metadata>\n <defs>\n  <style type=\"text/css\">*{stroke-linecap:butt;stroke-linejoin:round;}</style>\n </defs>\n <g id=\"figure_1\">\n  <g id=\"patch_1\">\n   <path d=\"M 0 299.880544 \nL 260.0299 299.880544 \nL 260.0299 0 \nL 0 0 \nz\n\" style=\"fill:#ffffff;\"/>\n  </g>\n  <g id=\"axes_1\">\n   <g id=\"patch_2\">\n    <path d=\"M 33.2875 276.002419 \nL 252.8299 276.002419 \nL 252.8299 9.890419 \nL 33.2875 9.890419 \nz\n\" style=\"fill:#ffffff;\"/>\n   </g>\n   <g clip-path=\"url(#p515c0e9d2d)\">\n    <image height=\"266.4\" id=\"imagef2fcbe55c7\" transform=\"scale(1 -1)translate(0 -266.4)\" width=\"219.6\" x=\"33.2875\" xlink:href=\"data:image/png;base64,\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\" y=\"-9.602419\"/>\n   </g>\n   <g id=\"matplotlib.axis_1\">\n    <g id=\"xtick_1\">\n     <g id=\"line2d_1\">\n      <defs>\n       <path d=\"M 0 0 \nL 0 3.5 \n\" id=\"m6b27c2f307\" style=\"stroke:#000000;stroke-width:0.8;\"/>\n      </defs>\n      <g>\n       <use style=\"stroke:#000000;stroke-width:0.8;\" x=\"34.3963\" xlink:href=\"#m6b27c2f307\" y=\"276.002419\"/>\n      </g>\n     </g>\n     <g id=\"text_1\">\n      <!-- 0 -->\n      <g transform=\"translate(31.21505 290.600856)scale(0.1 -0.1)\">\n       <defs>\n        <path d=\"M 2034 4250 \nQ 1547 4250 1301 3770 \nQ 1056 3291 1056 2328 \nQ 1056 1369 1301 889 \nQ 1547 409 2034 409 \nQ 2525 409 2770 889 \nQ 3016 1369 3016 2328 \nQ 3016 3291 2770 3770 \nQ 2525 4250 2034 4250 \nz\nM 2034 4750 \nQ 2819 4750 3233 4129 \nQ 3647 3509 3647 2328 \nQ 3647 1150 3233 529 \nQ 2819 -91 2034 -91 \nQ 1250 -91 836 529 \nQ 422 1150 422 2328 \nQ 422 3509 836 4129 \nQ 1250 4750 2034 4750 \nz\n\" id=\"DejaVuSans-30\" transform=\"scale(0.015625)\"/>\n       </defs>\n       <use xlink:href=\"#DejaVuSans-30\"/>\n      </g>\n     </g>\n    </g>\n    <g id=\"xtick_2\">\n     <g id=\"line2d_2\">\n      <g>\n       <use style=\"stroke:#000000;stroke-width:0.8;\" x=\"78.7483\" xlink:href=\"#m6b27c2f307\" y=\"276.002419\"/>\n      </g>\n     </g>\n     <g id=\"text_2\">\n      <!-- 20 -->\n      <g transform=\"translate(72.3858 290.600856)scale(0.1 -0.1)\">\n       <defs>\n        <path d=\"M 1228 531 \nL 3431 531 \nL 3431 0 \nL 469 0 \nL 469 531 \nQ 828 903 1448 1529 \nQ 2069 2156 2228 2338 \nQ 2531 2678 2651 2914 \nQ 2772 3150 2772 3378 \nQ 2772 3750 2511 3984 \nQ 2250 4219 1831 4219 \nQ 1534 4219 1204 4116 \nQ 875 4013 500 3803 \nL 500 4441 \nQ 881 4594 1212 4672 \nQ 1544 4750 1819 4750 \nQ 2544 4750 2975 4387 \nQ 3406 4025 3406 3419 \nQ 3406 3131 3298 2873 \nQ 3191 2616 2906 2266 \nQ 2828 2175 2409 1742 \nQ 1991 1309 1228 531 \nz\n\" id=\"DejaVuSans-32\" transform=\"scale(0.015625)\"/>\n       </defs>\n       <use xlink:href=\"#DejaVuSans-32\"/>\n       <use x=\"63.623047\" xlink:href=\"#DejaVuSans-30\"/>\n      </g>\n     </g>\n    </g>\n    <g id=\"xtick_3\">\n     <g id=\"line2d_3\">\n      <g>\n       <use style=\"stroke:#000000;stroke-width:0.8;\" x=\"123.1003\" xlink:href=\"#m6b27c2f307\" y=\"276.002419\"/>\n      </g>\n     </g>\n     <g id=\"text_3\">\n      <!-- 40 -->\n      <g transform=\"translate(116.7378 290.600856)scale(0.1 -0.1)\">\n       <defs>\n        <path d=\"M 2419 4116 \nL 825 1625 \nL 2419 1625 \nL 2419 4116 \nz\nM 2253 4666 \nL 3047 4666 \nL 3047 1625 \nL 3713 1625 \nL 3713 1100 \nL 3047 1100 \nL 3047 0 \nL 2419 0 \nL 2419 1100 \nL 313 1100 \nL 313 1709 \nL 2253 4666 \nz\n\" id=\"DejaVuSans-34\" transform=\"scale(0.015625)\"/>\n       </defs>\n       <use xlink:href=\"#DejaVuSans-34\"/>\n       <use x=\"63.623047\" xlink:href=\"#DejaVuSans-30\"/>\n      </g>\n     </g>\n    </g>\n    <g id=\"xtick_4\">\n     <g id=\"line2d_4\">\n      <g>\n       <use style=\"stroke:#000000;stroke-width:0.8;\" x=\"167.4523\" xlink:href=\"#m6b27c2f307\" y=\"276.002419\"/>\n      </g>\n     </g>\n     <g id=\"text_4\">\n      <!-- 60 -->\n      <g transform=\"translate(161.0898 290.600856)scale(0.1 -0.1)\">\n       <defs>\n        <path d=\"M 2113 2584 \nQ 1688 2584 1439 2293 \nQ 1191 2003 1191 1497 \nQ 1191 994 1439 701 \nQ 1688 409 2113 409 \nQ 2538 409 2786 701 \nQ 3034 994 3034 1497 \nQ 3034 2003 2786 2293 \nQ 2538 2584 2113 2584 \nz\nM 3366 4563 \nL 3366 3988 \nQ 3128 4100 2886 4159 \nQ 2644 4219 2406 4219 \nQ 1781 4219 1451 3797 \nQ 1122 3375 1075 2522 \nQ 1259 2794 1537 2939 \nQ 1816 3084 2150 3084 \nQ 2853 3084 3261 2657 \nQ 3669 2231 3669 1497 \nQ 3669 778 3244 343 \nQ 2819 -91 2113 -91 \nQ 1303 -91 875 529 \nQ 447 1150 447 2328 \nQ 447 3434 972 4092 \nQ 1497 4750 2381 4750 \nQ 2619 4750 2861 4703 \nQ 3103 4656 3366 4563 \nz\n\" id=\"DejaVuSans-36\" transform=\"scale(0.015625)\"/>\n       </defs>\n       <use xlink:href=\"#DejaVuSans-36\"/>\n       <use x=\"63.623047\" xlink:href=\"#DejaVuSans-30\"/>\n      </g>\n     </g>\n    </g>\n    <g id=\"xtick_5\">\n     <g id=\"line2d_5\">\n      <g>\n       <use style=\"stroke:#000000;stroke-width:0.8;\" x=\"211.8043\" xlink:href=\"#m6b27c2f307\" y=\"276.002419\"/>\n      </g>\n     </g>\n     <g id=\"text_5\">\n      <!-- 80 -->\n      <g transform=\"translate(205.4418 290.600856)scale(0.1 -0.1)\">\n       <defs>\n        <path d=\"M 2034 2216 \nQ 1584 2216 1326 1975 \nQ 1069 1734 1069 1313 \nQ 1069 891 1326 650 \nQ 1584 409 2034 409 \nQ 2484 409 2743 651 \nQ 3003 894 3003 1313 \nQ 3003 1734 2745 1975 \nQ 2488 2216 2034 2216 \nz\nM 1403 2484 \nQ 997 2584 770 2862 \nQ 544 3141 544 3541 \nQ 544 4100 942 4425 \nQ 1341 4750 2034 4750 \nQ 2731 4750 3128 4425 \nQ 3525 4100 3525 3541 \nQ 3525 3141 3298 2862 \nQ 3072 2584 2669 2484 \nQ 3125 2378 3379 2068 \nQ 3634 1759 3634 1313 \nQ 3634 634 3220 271 \nQ 2806 -91 2034 -91 \nQ 1263 -91 848 271 \nQ 434 634 434 1313 \nQ 434 1759 690 2068 \nQ 947 2378 1403 2484 \nz\nM 1172 3481 \nQ 1172 3119 1398 2916 \nQ 1625 2713 2034 2713 \nQ 2441 2713 2670 2916 \nQ 2900 3119 2900 3481 \nQ 2900 3844 2670 4047 \nQ 2441 4250 2034 4250 \nQ 1625 4250 1398 4047 \nQ 1172 3844 1172 3481 \nz\n\" id=\"DejaVuSans-38\" transform=\"scale(0.015625)\"/>\n       </defs>\n       <use xlink:href=\"#DejaVuSans-38\"/>\n       <use x=\"63.623047\" xlink:href=\"#DejaVuSans-30\"/>\n      </g>\n     </g>\n    </g>\n   </g>\n   <g id=\"matplotlib.axis_2\">\n    <g id=\"ytick_1\">\n     <g id=\"line2d_6\">\n      <defs>\n       <path d=\"M 0 0 \nL -3.5 0 \n\" id=\"m4e39fac520\" style=\"stroke:#000000;stroke-width:0.8;\"/>\n      </defs>\n      <g>\n       <use style=\"stroke:#000000;stroke-width:0.8;\" x=\"33.2875\" xlink:href=\"#m4e39fac520\" y=\"10.999219\"/>\n      </g>\n     </g>\n     <g id=\"text_6\">\n      <!-- 0 -->\n      <g transform=\"translate(19.925 14.798437)scale(0.1 -0.1)\">\n       <use xlink:href=\"#DejaVuSans-30\"/>\n      </g>\n     </g>\n    </g>\n    <g id=\"ytick_2\">\n     <g id=\"line2d_7\">\n      <g>\n       <use style=\"stroke:#000000;stroke-width:0.8;\" x=\"33.2875\" xlink:href=\"#m4e39fac520\" y=\"55.351219\"/>\n      </g>\n     </g>\n     <g id=\"text_7\">\n      <!-- 20 -->\n      <g transform=\"translate(13.5625 59.150437)scale(0.1 -0.1)\">\n       <use xlink:href=\"#DejaVuSans-32\"/>\n       <use x=\"63.623047\" xlink:href=\"#DejaVuSans-30\"/>\n      </g>\n     </g>\n    </g>\n    <g id=\"ytick_3\">\n     <g id=\"line2d_8\">\n      <g>\n       <use style=\"stroke:#000000;stroke-width:0.8;\" x=\"33.2875\" xlink:href=\"#m4e39fac520\" y=\"99.703219\"/>\n      </g>\n     </g>\n     <g id=\"text_8\">\n      <!-- 40 -->\n      <g transform=\"translate(13.5625 103.502437)scale(0.1 -0.1)\">\n       <use xlink:href=\"#DejaVuSans-34\"/>\n       <use x=\"63.623047\" xlink:href=\"#DejaVuSans-30\"/>\n      </g>\n     </g>\n    </g>\n    <g id=\"ytick_4\">\n     <g id=\"line2d_9\">\n      <g>\n       <use style=\"stroke:#000000;stroke-width:0.8;\" x=\"33.2875\" xlink:href=\"#m4e39fac520\" y=\"144.055219\"/>\n      </g>\n     </g>\n     <g id=\"text_9\">\n      <!-- 60 -->\n      <g transform=\"translate(13.5625 147.854437)scale(0.1 -0.1)\">\n       <use xlink:href=\"#DejaVuSans-36\"/>\n       <use x=\"63.623047\" xlink:href=\"#DejaVuSans-30\"/>\n      </g>\n     </g>\n    </g>\n    <g id=\"ytick_5\">\n     <g id=\"line2d_10\">\n      <g>\n       <use style=\"stroke:#000000;stroke-width:0.8;\" x=\"33.2875\" xlink:href=\"#m4e39fac520\" y=\"188.407219\"/>\n      </g>\n     </g>\n     <g id=\"text_10\">\n      <!-- 80 -->\n      <g transform=\"translate(13.5625 192.206437)scale(0.1 -0.1)\">\n       <use xlink:href=\"#DejaVuSans-38\"/>\n       <use x=\"63.623047\" xlink:href=\"#DejaVuSans-30\"/>\n      </g>\n     </g>\n    </g>\n    <g id=\"ytick_6\">\n     <g id=\"line2d_11\">\n      <g>\n       <use style=\"stroke:#000000;stroke-width:0.8;\" x=\"33.2875\" xlink:href=\"#m4e39fac520\" y=\"232.759219\"/>\n      </g>\n     </g>\n     <g id=\"text_11\">\n      <!-- 100 -->\n      <g transform=\"translate(7.2 236.558437)scale(0.1 -0.1)\">\n       <defs>\n        <path d=\"M 794 531 \nL 1825 531 \nL 1825 4091 \nL 703 3866 \nL 703 4441 \nL 1819 4666 \nL 2450 4666 \nL 2450 531 \nL 3481 531 \nL 3481 0 \nL 794 0 \nL 794 531 \nz\n\" id=\"DejaVuSans-31\" transform=\"scale(0.015625)\"/>\n       </defs>\n       <use xlink:href=\"#DejaVuSans-31\"/>\n       <use x=\"63.623047\" xlink:href=\"#DejaVuSans-30\"/>\n       <use x=\"127.246094\" xlink:href=\"#DejaVuSans-30\"/>\n      </g>\n     </g>\n    </g>\n   </g>\n   <g id=\"patch_3\">\n    <path d=\"M 33.2875 276.002419 \nL 33.2875 9.890419 \n\" style=\"fill:none;stroke:#000000;stroke-linecap:square;stroke-linejoin:miter;stroke-width:0.8;\"/>\n   </g>\n   <g id=\"patch_4\">\n    <path d=\"M 252.8299 276.002419 \nL 252.8299 9.890419 \n\" style=\"fill:none;stroke:#000000;stroke-linecap:square;stroke-linejoin:miter;stroke-width:0.8;\"/>\n   </g>\n   <g id=\"patch_5\">\n    <path d=\"M 33.2875 276.002419 \nL 252.8299 276.002419 \n\" style=\"fill:none;stroke:#000000;stroke-linecap:square;stroke-linejoin:miter;stroke-width:0.8;\"/>\n   </g>\n   <g id=\"patch_6\">\n    <path d=\"M 33.2875 9.890419 \nL 252.8299 9.890419 \n\" style=\"fill:none;stroke:#000000;stroke-linecap:square;stroke-linejoin:miter;stroke-width:0.8;\"/>\n   </g>\n  </g>\n </g>\n <defs>\n  <clipPath id=\"p515c0e9d2d\">\n   <rect height=\"266.112\" width=\"219.5424\" x=\"33.2875\" y=\"9.890419\"/>\n  </clipPath>\n </defs>\n</svg>\n",
            "image/png": "[encoded data removed]"
          },
          "metadata": {}
        },
        {
          "output_type": "stream",
          "name": "stdout",
          "text": [
            "<class 'data_generator.DataGenerator'>\n"
          ]
        }
      ],
      "metadata": {
        "id": "nHuqA1b6y_vR"
      }
    },
    {
      "cell_type": "markdown",
      "source": [
        "**MODEL**"
      ],
      "metadata": {
        "id": "RJ6JV7nvAAXR"
      }
    },
    {
      "cell_type": "code",
      "execution_count": null,
      "source": [
        "from tensorflow.keras.models import Model\n",
        "sample_shape=(192,192,160,1)\n",
        "# Create the model\n",
        "# model = Sequential()\n",
        "# model.add(Conv3D(32, kernel_size=(3, 3, 3), activation='relu', kernel_initializer='he_uniform', input_shape=sample_shape))\n",
        "# model.add(MaxPooling3D(pool_size=(2, 2, 2)))\n",
        "# model.add(BatchNormalization(center=True, scale=True))\n",
        "# model.add(Dropout(0.5))\n",
        "# # model.add(Conv3D(64, kernel_size=(3, 3, 3), activation='relu', kernel_initializer='he_uniform'))\n",
        "# # model.add(MaxPooling3D(pool_size=(2, 2, 2)))\n",
        "# # model.add(BatchNormalization(center=True, scale=True))\n",
        "# # model.add(Dropout(0.5))\n",
        "# model.add(Flatten())\n",
        "# model.add(Dense(256, activation='relu', kernel_initializer='he_uniform'))\n",
        "# model.add(Dense(256, activation='relu', kernel_initializer='he_uniform'))\n",
        "# model.add(Dense(10, activation='softmax'))\n",
        "\n",
        "# model.summary()\n",
        "\n",
        "\n",
        "# from resnet3d import Resnet3DBuilder\n",
        "# base_model = Resnet3DBuilder.build_resnet_18(\n",
        "#     input_shape=sample_shape,\n",
        "#     num_outputs=num_classes,\n",
        "#     reg_factor=0.04\n",
        "# )\n",
        "\n",
        "# # add the final layers and compile\n",
        "# fc_layer = tf.keras.layers.Dense(512, activation='relu')(base_model.layers[-2].output)\n",
        "# fc_layer = tf.keras.layers.Dropout(0.8)(fc_layer)\n",
        "# output_layer = tf.keras.layers.Dense(N_CLASSES, activation='softmax')(fc_layer)\n",
        "# model = tf.keras.models.Model(inputs=base_model.input, outputs=output_layer)\n",
        "# optimizer = tf.keras.optimizers.Adam(lr=0.00001)\n",
        "# model.compile(optimizer=optimizer, \n",
        "#               loss='categorical_crossentropy', \n",
        "#               metrics=['acc'])\n",
        "\n",
        "# # train the model\n",
        "# model.fit(x=image_tensor, y=label_tensor, epochs=50, \n",
        "#           steps_per_epoch=STEPS_PER_EPOCH, \n",
        "#           validation_data=val_tensor, \n",
        "#           validation_steps=VALIDATION_STEPS)\n",
        "\n",
        "\n",
        "def get_model(width=192, height=192, depth=160):\n",
        "    \"\"\"Build a 3D convolutional neural network model.\"\"\"\n",
        "\n",
        "    inputs = keras.Input((width, height, depth, 1))\n",
        "\n",
        "    x = Conv3D(filters=64, kernel_size=3, activation=\"relu\")(inputs)\n",
        "    x = MaxPool3D(pool_size=2)(x)\n",
        "    x = BatchNormalization()(x)\n",
        "\n",
        "    x = Conv3D(filters=64, kernel_size=3, activation=\"relu\")(x)\n",
        "    x = MaxPool3D(pool_size=2)(x)\n",
        "    x = BatchNormalization()(x)\n",
        "\n",
        "    x = Conv3D(filters=128, kernel_size=3, activation=\"relu\")(x)\n",
        "    x = MaxPool3D(pool_size=2)(x)\n",
        "    x = BatchNormalization()(x)\n",
        "\n",
        "    x = Conv3D(filters=256, kernel_size=3, activation=\"relu\")(x)\n",
        "    x = MaxPool3D(pool_size=2)(x)\n",
        "    x = BatchNormalization()(x)\n",
        "\n",
        "    x = GlobalAveragePooling3D()(x)\n",
        "    x = Dense(units=512, activation=\"relu\")(x)\n",
        "    x = Dropout(0.3)(x)\n",
        "\n",
        "    outputs = Dense(units=num_classes, activation=\"sigmoid\")(x)\n",
        "\n",
        "    # Define the model.\n",
        "    model = keras.Model(inputs, outputs, name=\"3dcnn\")\n",
        "    return model\n",
        "\n",
        "\n",
        "# # Build model.\n",
        "# model = get_model(width=192, height=192, depth=160)\n",
        "# model.summary()"
      ],
      "outputs": [],
      "metadata": {
        "id": "HN-KMog9ACyp",
        "colab": {
          "base_uri": "https://localhost:8080/"
        },
        "outputId": "53a4add4-76c7-4bd4-f10e-dfd516f18254"
      }
    },
    {
      "cell_type": "code",
      "execution_count": null,
      "source": [
        "## DEF A BLOCK CONV + BN + GN + CONV + BN + GN + MAXPOOL \n",
        "def CBGN(model,filters,lname,ishape=0):\n",
        "  if (ishape!=0):\n",
        "    model.add(Conv3D(filters=filters, kernel_size=3, activation=\"relu\",\n",
        "                 input_shape=ishape))\n",
        "  else:\n",
        "    model.add(Conv3D(filters=filters, kernel_size=3, activation=\"relu\"))\n",
        "\n",
        "  model.add(MaxPool3D(pool_size=2,name=lname))\n",
        "  \n",
        "  return model\n",
        "\n",
        "\n",
        "model = Sequential()\n",
        "\n",
        "model=CBGN(model,32,'conv_model_1',(images_shape[0], images_shape[1], images_shape[2], 1))\n",
        "model=CBGN(model,64,'conv_model_2')\n",
        "model=CBGN(model,128,'conv_modeL_3')\n",
        "model=CBGN(model,256,'conv_modeL_4')\n",
        "# model=CBGN(model,512,'conv_model_5')\n",
        "\n",
        "# model.add(Flatten())\n",
        "model.add(GlobalAveragePooling3D())\n",
        "model.add(Dense(units=512, activation=\"relu\"))\n",
        "model.add(BN())\n",
        "# model.add(GN(0.3))\n",
        "model.add(Dropout(0.5))\n",
        "model.add(Dense(num_classes))\n",
        "model.add(Activation('softmax'))\n",
        "# model.add(Activation('sigmoid'))\n",
        "\n",
        "model.summary()"
      ],
      "outputs": [],
      "metadata": {}
    },
    {
      "cell_type": "code",
      "execution_count": null,
      "source": [
        "# plot_model(model, \n",
        "#            show_shapes = True,\n",
        "#            show_dtype=False,\n",
        "#            show_layer_names = True, \n",
        "#            rankdir = 'TB', \n",
        "#            expand_nested = False, \n",
        "#            dpi = 70)"
      ],
      "outputs": [],
      "metadata": {
        "id": "sFsqpPJRlf3J"
      }
    },
    {
      "cell_type": "code",
      "execution_count": null,
      "source": [
        "opt = Adam(1, decay=1e-6)"
      ],
      "outputs": [],
      "metadata": {
        "id": "QPwDKMduPH3b"
      }
    },
    {
      "cell_type": "code",
      "execution_count": null,
      "source": [
        "# Compile the model\n",
        "model.compile(loss='categorical_crossentropy',\n",
        "              optimizer=opt,\n",
        "              metrics=['accuracy'])"
      ],
      "outputs": [],
      "metadata": {
        "id": "PmyJqaF_O6h4"
      }
    },
    {
      "cell_type": "code",
      "execution_count": null,
      "source": [
        "# Fit data to model\n",
        "history = model.fit(x=training_generator,\n",
        "                    epochs=epochs,\n",
        "                    verbose=1,\n",
        "                    validation_data = test_generator)"
      ],
      "outputs": [],
      "metadata": {
        "id": "dcYUb-uAO8d5",
        "colab": {
          "base_uri": "https://localhost:8080/"
        },
        "outputId": "24b0c966-edc1-4959-ee2d-e8dcf14c41a5"
      }
    }
  ]
}